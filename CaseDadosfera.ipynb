{
 "cells": [
  {
   "cell_type": "markdown",
   "metadata": {},
   "source": [
    "# Case interview - Analista de Suporte Dadosfera\n",
    "## Links\n",
    "Apresentação: Youtube\n",
    "\n",
    "PDF: pdf\n"
   ]
  },
  {
   "cell_type": "markdown",
   "metadata": {},
   "source": [
    "# Item Troubleshooting\n",
    "\n",
    "Ao ler o erro informado nos logs da pipeline, é possível verificar que está ocorrendo um erro 403 na requisição que é feita para o google API. Podemos ver nas linhas a seguir que é gerado um token de acesso e então a plataforma faz o request via Google API para a planilha online, e a requisição é retornada com o erro de permissão negada.\n",
    "\n",
    "```text\n",
    "#token válido por 1 hora foi obtido\n",
    "2025-04-10 16:30:14.402  INFO        core.meltano.utils               Authorized, token expires = 2025-04-10 17:30:12.620625\n",
    "\n",
    "#Início do processo de descoberta dos dados da planilha\n",
    "2025-04-10 16:30:14.403  INFO        core.meltano.utils               Starting discover\n",
    "\n",
    "#URL da API do Google Sheets sendo acessada para obter os metadados da planilha\n",
    "2025-04-10 16:30:14.403  INFO        core.meltano.utils               spreadsheet_metadata URL = https://sheets.googleapis.com/v4/spreadsheets/15embtJvuEVFgsmAWjdqNiRqvcZe79o_NJTRe2YffQ0c?includeGridData=false\n",
    "\n",
    "#Chamada HTTP, a resposta foi um erro 403\n",
    "2025-04-10 16:30:14.404  INFO        core.meltano.utils               METRIC: {\"type\": \"timer\", \"metric\": \"http_request_duration\", \"value\": 0.145982027053833, \"tags\": {\"endpoint\": \"spreadsheet_metadata\", \"http_status_code\": 403, \"status\": \"succeeded\"}}\n",
    "\n",
    "#ACCESS_TOKEN_SCOPE_INSUFFICIENT indica que o token gerado é válido, porém não possui permissão para usar o método GetSpreadsheet\n",
    "2025-04-10 16:30:14.404  CRITICAL    core.meltano.utils               HTTP-error-code: 403 {\n",
    "    'code': 403,\n",
    "    'message': 'Request had insufficient authentication scopes.',\n",
    "    'status': 'PERMISSION_DENIED',\n",
    "    'details': [\n",
    "        {\n",
    "            '@type': 'type.googleapis.com/google.rpc.ErrorInfo',\n",
    "            'reason': 'ACCESS_TOKEN_SCOPE_INSUFFICIENT',\n",
    "            'domain': 'googleapis.com',\n",
    "            'metadata': {\n",
    "                'service': 'sheets.googleapis.com',\n",
    "                'method': 'google.apps.sheets.v4.SpreadsheetsService.GetSpreadsheet'\n",
    "            }\n",
    "        }\n",
    "    ]\n",
    "}: Unknown Error\n",
    "```\n",
    "\n",
    "Nesse caso não é possível determinar pelos logs se existe algum erro na planilha em si devido ao erro ocorrer antes da importação ser realizada, entretanto é visto um erro de permissão da conta recebida pelo Connection Manager para gerar o token em questão. Conforme informado pelos logs, essa conta foi criada em 2025-03-31, mesma data que a pipeline foi criada, portanto a maior probabilidade é a de que seja uma conta de serviço (compartilhada) que é utilizada para ter acesso à API e precisa ter suas permissões corrigidas.\n",
    "\n",
    "A resposta final ao cliente seria apresentada desta forma:\n",
    "\n",
    ">Boa tarde João, meu nome é Rafael, sou da equipe do suporte, tudo bem? \n",
    ">\n",
    ">Estou entrando em contato referente ao chamado aberto XX sobre o erro de coleta na Dadosfera.\n",
    ">\n",
    ">Durante a análise foi verificado que o erro é gerado no momento em que a plataforma tenta acessar a planilha do google, ou seja, na primeira etapa de comunicação entre a pipeline e a planilha online. Para resolver isso, vou encaminhar essa questão para nosso time que cuida dessa parte do processo, para que eles verifiquem e adicionem a permissão que está faltando, assim resolvendo o erro para você poder importar as planilhas na pipeline. \n",
    ">\n",
    ">Assim que a equipe me retornar eu te informo, tudo bem? \n"
   ]
  }
 ],
 "metadata": {
  "kernelspec": {
   "display_name": "Python 3",
   "language": "python",
   "name": "python3"
  },
  "language_info": {
   "codemirror_mode": {
    "name": "ipython",
    "version": 3
   },
   "file_extension": ".py",
   "mimetype": "text/x-python",
   "name": "python",
   "nbconvert_exporter": "python",
   "pygments_lexer": "ipython3",
   "version": "3.12.0"
  }
 },
 "nbformat": 4,
 "nbformat_minor": 2
}
